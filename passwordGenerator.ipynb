{
 "cells": [
  {
   "cell_type": "code",
   "execution_count": 3,
   "id": "5f0f398c-2bb2-4e90-9ecd-f9a78c942a91",
   "metadata": {},
   "outputs": [
    {
     "name": "stdout",
     "output_type": "stream",
     "text": [
      "34DwBuM9Hfn3O<cPxB:S\n"
     ]
    }
   ],
   "source": [
    "import random \n",
    "import array\n",
    "\n",
    "# maximum length of password\n",
    " \n",
    "maxLen = 20\n",
    "\n",
    "# declare arrays of the character that we need in out password \n",
    "# Represented as chars to enable easy string concatenation \n",
    "digits = ['0', '1', '2', '3', '4', '5', '6', '7', '8', '9'] \n",
    "\n",
    "\n",
    "lowercaseCharacters = ['a', 'b', 'c', 'd', 'e', 'f', 'g', 'h', \n",
    "\t\t\t\t\t'i', 'j', 'k', 'm', 'n', 'o', 'p', 'q', \n",
    "\t\t\t\t\t'r', 's', 't', 'u', 'v', 'w', 'x', 'y', \n",
    "\t\t\t\t\t'z'] \n",
    "\n",
    "\n",
    "uppercaseCharacters = ['A', 'B', 'C', 'D', 'E', 'F', 'G', 'H', \n",
    "\t\t\t\t\t'I', 'J', 'K', 'M', 'N', 'O', 'P', 'Q', \n",
    "\t\t\t\t\t'R', 'S', 'T', 'U', 'V', 'W', 'X', 'Y', \n",
    "\t\t\t\t\t'Z'] \n",
    "\n",
    "\n",
    "symbols = ['@', '#', '$', '%', '=', ':', '?', '.', '/', '|', '~', '>', \n",
    "\t\t'*', '(', ')', '<'] \n",
    "\n",
    "# combines all the character arrays above to form one array \n",
    "combinedList = digits + uppercaseCharacters + lowercaseCharacters + symbols \n",
    "\n",
    "# randomly select at least one character from each character set above \n",
    "randDigit = random.choice(digits) \n",
    "randUpper = random.choice(uppercaseCharacters) \n",
    "randLower = random.choice(lowercaseCharacters) \n",
    "randSymbol = random.choice(symbols) \n",
    "\n",
    "\n",
    "\n",
    "# at this stage, the password contains only 4 characters but \n",
    "# we want a 12-character password \n",
    "tempPass = randDigit + randUpper + randLower + randSymbol\n",
    "\n",
    "\n",
    " \n",
    "# set of characters, we fill the rest of \n",
    "# the password length by selecting randomly from the combined \n",
    "# list of character above. \n",
    "for x in range(maxLen - 4): \n",
    "\ttempPass = tempPass + random.choice(combinedList) \n",
    "\n",
    "\t# convert temporary password into array and shuffle to \n",
    "\t# prevent it from having a consistent pattern \n",
    "\t# where the beginning of the password is predictable \n",
    "\ttempPassList = array.array('u', tempPass) \n",
    "\trandom.shuffle(tempPassList) \n",
    "\n",
    "# traverse the temporary password array and append the chars \n",
    "# to form the password \n",
    "password = \"\" \n",
    "for x in tempPassList: \n",
    "\t\tpassword = password + x \n",
    "\t\t\n",
    "# print out password \n",
    "print(password) \n"
   ]
  },
  {
   "cell_type": "code",
   "execution_count": null,
   "id": "bf235b9a-8dc6-4b40-9ba7-3663c059ad40",
   "metadata": {},
   "outputs": [],
   "source": []
  },
  {
   "cell_type": "code",
   "execution_count": null,
   "id": "368ca02c-a9b7-42dd-90d3-58d4452461fb",
   "metadata": {},
   "outputs": [],
   "source": []
  }
 ],
 "metadata": {
  "kernelspec": {
   "display_name": "Python 3 (ipykernel)",
   "language": "python",
   "name": "python3"
  },
  "language_info": {
   "codemirror_mode": {
    "name": "ipython",
    "version": 3
   },
   "file_extension": ".py",
   "mimetype": "text/x-python",
   "name": "python",
   "nbconvert_exporter": "python",
   "pygments_lexer": "ipython3",
   "version": "3.12.4"
  }
 },
 "nbformat": 4,
 "nbformat_minor": 5
}
